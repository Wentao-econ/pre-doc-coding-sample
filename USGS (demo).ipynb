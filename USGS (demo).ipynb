{
 "cells": [
  {
   "cell_type": "code",
   "execution_count": 60,
   "metadata": {},
   "outputs": [],
   "source": [
    "import pdf2image\n",
    "from PIL import Image\n",
    "import pytesseract\n",
    "import re\n",
    "import pandas as pd"
   ]
  },
  {
   "cell_type": "code",
   "execution_count": null,
   "metadata": {},
   "outputs": [],
   "source": []
  },
  {
   "cell_type": "code",
   "execution_count": 45,
   "metadata": {},
   "outputs": [],
   "source": [
    "def extract_mine_production_and_reserves(page_text):\n",
    "    lines = page_text.split('\\n')\n",
    "    mineral = \"\".join(lines[1:3])\n",
    "    data = []\n",
    "    found_reserves_section = False\n",
    "    start_capturing = False\n",
    "    scrap = False\n",
    "    for line in lines:\n",
    "        line = line.strip()\n",
    "        if line[-9:-1] == \"Reserves\":\n",
    "            scrap = True\n",
    "        if scrap:\n",
    "            if '2017 2018' in line:\n",
    "                start_capturing = True\n",
    "                continue\n",
    "            if start_capturing:\n",
    "                if 'World total' in line:\n",
    "                    data.append(line)\n",
    "                    break\n",
    "                if line and re.search(r'\\d', line):\n",
    "                    data.append(line)\n",
    "    return data, mineral\n",
    "    \n",
    "def parse_data(mineral_data):\n",
    "    data, mineral = mineral_data\n",
    "    structured_data = []\n",
    "    \n",
    "    first_line = data[0]\n",
    "    a_1 = re.split(r'\\s{2,}|\\s+', first_line)\n",
    "    if re.search(r'\\d', a_1[-1]) or len(a_1)<=6:\n",
    "        reserve_data = True\n",
    "    else:\n",
    "        reserve_data = False\n",
    "        \n",
    "    for line in data:\n",
    "        a = re.split(r'\\s{2,}|\\s+', line)\n",
    "        \n",
    "        if reserve_data:\n",
    "            country = a[0:-3]\n",
    "            country = \" \".join(country)\n",
    "            prod_2017 = a[-3]\n",
    "            prod_2018 = a[-2]\n",
    "            reserves = a[-1]\n",
    "            structured_data.append([mineral, country, prod_2017, prod_2018, reserves])\n",
    "        else:\n",
    "            for i in range(1, len(a)+1):\n",
    "                if not re.search(r'\\d', a[-1]) and len(a)>5:\n",
    "                    a.pop()\n",
    "                else:\n",
    "                    break\n",
    "            country = a[0:-2]\n",
    "            country = \" \".join(country)\n",
    "            prod_2017 = a[-2]\n",
    "            prod_2018 = a[-1]\n",
    "            structured_data.append([mineral, country, prod_2017, prod_2018, \"NA\"])\n",
    "            \n",
    "    return structured_data"
   ]
  },
  {
   "cell_type": "code",
   "execution_count": 310,
   "metadata": {},
   "outputs": [],
   "source": [
    "total_data = {}\n",
    "for page in images[24:]:\n",
    "    page_text = pytesseract.image_to_string(page)\n",
    "    data, mineral = extract_mine_production_and_reserves(page_text)\n",
    "    if len(data)>1:    \n",
    "        parsed_data = parse_data((data, mineral))\n",
    "        total_data[mineral] = parsed_data\n",
    "    else:\n",
    "        continue"
   ]
  },
  {
   "cell_type": "code",
   "execution_count": 48,
   "metadata": {},
   "outputs": [],
   "source": [
    "page_text = pytesseract.image_to_string(images[26])"
   ]
  },
  {
   "cell_type": "code",
   "execution_count": 54,
   "metadata": {},
   "outputs": [
    {
     "data": {
      "text/plain": [
       "(['United States —_ _— 660,000',\n",
       "  'Australia 3,120 3,100 7140,000',\n",
       "  'Bolivia 2,700 2,700 310,000',\n",
       "  'Burma 1,000 1,000 NA',\n",
       "  'China 98,000 100,000 480,000',\n",
       "  'Guatemala 25 25 NA',\n",
       "  'Iran 300 300 NA',\n",
       "  'Kazakhstan 700 700 NA',\n",
       "  'Laos 340 300 NA',\n",
       "  'Mexico 243 240 18,000',\n",
       "  'Pakistan 60 60 NA',\n",
       "  'Russia (recoverable) 14,400 14,000 350,000',\n",
       "  'Tajikistan 14,000 14,000 50,000',\n",
       "  'Turkey 2,000 2,000 100,000',\n",
       "  'Vietnam 380 300 NA',\n",
       "  'World total (rounded) 137,000 140,000 1,500,000'],\n",
       " 'ANTIMONY')"
      ]
     },
     "execution_count": 54,
     "metadata": {},
     "output_type": "execute_result"
    }
   ],
   "source": [
    "extract_mine_production_and_reserves(page_text)"
   ]
  },
  {
   "cell_type": "code",
   "execution_count": 58,
   "metadata": {},
   "outputs": [
    {
     "data": {
      "text/plain": [
       "[['ANTIMONY', 'United States', '—_', '_—', '660,000'],\n",
       " ['ANTIMONY', 'Australia', '3,120', '3,100', '7140,000'],\n",
       " ['ANTIMONY', 'Bolivia', '2,700', '2,700', '310,000'],\n",
       " ['ANTIMONY', 'Burma', '1,000', '1,000', 'NA'],\n",
       " ['ANTIMONY', 'China', '98,000', '100,000', '480,000'],\n",
       " ['ANTIMONY', 'Guatemala', '25', '25', 'NA'],\n",
       " ['ANTIMONY', 'Iran', '300', '300', 'NA'],\n",
       " ['ANTIMONY', 'Kazakhstan', '700', '700', 'NA'],\n",
       " ['ANTIMONY', 'Laos', '340', '300', 'NA'],\n",
       " ['ANTIMONY', 'Mexico', '243', '240', '18,000'],\n",
       " ['ANTIMONY', 'Pakistan', '60', '60', 'NA'],\n",
       " ['ANTIMONY', 'Russia (recoverable)', '14,400', '14,000', '350,000'],\n",
       " ['ANTIMONY', 'Tajikistan', '14,000', '14,000', '50,000'],\n",
       " ['ANTIMONY', 'Turkey', '2,000', '2,000', '100,000'],\n",
       " ['ANTIMONY', 'Vietnam', '380', '300', 'NA'],\n",
       " ['ANTIMONY', 'World total (rounded)', '137,000', '140,000', '1,500,000']]"
      ]
     },
     "execution_count": 58,
     "metadata": {},
     "output_type": "execute_result"
    }
   ],
   "source": [
    "parse_data(extract_mine_production_and_reserves(page_text))"
   ]
  },
  {
   "cell_type": "code",
   "execution_count": 319,
   "metadata": {},
   "outputs": [],
   "source": [
    "parsed_data = parse_data(extract_mine_production_and_reserves(page_text))"
   ]
  },
  {
   "cell_type": "markdown",
   "metadata": {},
   "source": [
    "Some Reserves data has footnote before the digits, the following check_list contains those abnormal data"
   ]
  },
  {
   "cell_type": "code",
   "execution_count": 345,
   "metadata": {},
   "outputs": [],
   "source": [
    "check_list = []\n",
    "for mineral in all_data:\n",
    "    try:\n",
    "        total_reserve = float(mineral[-1][4])\n",
    "        for state in mineral:\n",
    "            state_reserve = float(state[4])\n",
    "            if state_reserve>total_reserve:\n",
    "                check_list.append(state[0])\n",
    "                break\n",
    "    except:\n",
    "        pass"
   ]
  },
  {
   "cell_type": "code",
   "execution_count": 362,
   "metadata": {},
   "outputs": [],
   "source": [
    "columns = [\"Mineral\", \"Country\", \"Production 2017\", \"Production 2018\", \"Reserves\"]\n",
    "df = pd.DataFrame(all_data[0], columns=columns)\n",
    "for mineral in all_data[1:]:\n",
    "    columns = [\"Mineral\", \"Country\", \"Production 2017\", \"Production 2018\", \"Reserves\"]\n",
    "    df_cat = pd.DataFrame(mineral, columns=columns)\n",
    "    df = pd.concat([df, df_cat], ignore_index=True)"
   ]
  },
  {
   "cell_type": "code",
   "execution_count": 364,
   "metadata": {},
   "outputs": [
    {
     "data": {
      "text/plain": [
       "['ANTIMONY',\n",
       " 'BAUXITE AND ALUMINA',\n",
       " 'COBALT',\n",
       " 'COPPER',\n",
       " 'DIAMOND (INDUSTRIAL)',\n",
       " 'GOLD',\n",
       " 'LEAD',\n",
       " 'LITHIUM',\n",
       " 'POTASH',\n",
       " 'SODA ASH',\n",
       " 'TIN',\n",
       " 'VANADIUM',\n",
       " 'ZINC']"
      ]
     },
     "execution_count": 364,
     "metadata": {},
     "output_type": "execute_result"
    }
   ],
   "source": [
    "check_list # modify the corresponding calues in csv"
   ]
  },
  {
   "cell_type": "code",
   "execution_count": 388,
   "metadata": {},
   "outputs": [
    {
     "data": {
      "text/html": [
       "<div>\n",
       "<style scoped>\n",
       "    .dataframe tbody tr th:only-of-type {\n",
       "        vertical-align: middle;\n",
       "    }\n",
       "\n",
       "    .dataframe tbody tr th {\n",
       "        vertical-align: top;\n",
       "    }\n",
       "\n",
       "    .dataframe thead th {\n",
       "        text-align: right;\n",
       "    }\n",
       "</style>\n",
       "<table border=\"1\" class=\"dataframe\">\n",
       "  <thead>\n",
       "    <tr style=\"text-align: right;\">\n",
       "      <th></th>\n",
       "      <th>Mineral</th>\n",
       "      <th>Country</th>\n",
       "      <th>Production 2017</th>\n",
       "      <th>Production 2018</th>\n",
       "      <th>Reserves</th>\n",
       "    </tr>\n",
       "  </thead>\n",
       "  <tbody>\n",
       "    <tr>\n",
       "      <th>0</th>\n",
       "      <td>ANTIMONY</td>\n",
       "      <td>United States</td>\n",
       "      <td>—_</td>\n",
       "      <td>_—</td>\n",
       "      <td>660000</td>\n",
       "    </tr>\n",
       "    <tr>\n",
       "      <th>1</th>\n",
       "      <td>ANTIMONY</td>\n",
       "      <td>Australia</td>\n",
       "      <td>3120</td>\n",
       "      <td>3100</td>\n",
       "      <td>7140000</td>\n",
       "    </tr>\n",
       "    <tr>\n",
       "      <th>2</th>\n",
       "      <td>ANTIMONY</td>\n",
       "      <td>Bolivia</td>\n",
       "      <td>2700</td>\n",
       "      <td>2700</td>\n",
       "      <td>310000</td>\n",
       "    </tr>\n",
       "    <tr>\n",
       "      <th>3</th>\n",
       "      <td>ANTIMONY</td>\n",
       "      <td>Burma</td>\n",
       "      <td>1000</td>\n",
       "      <td>1000</td>\n",
       "      <td>NA</td>\n",
       "    </tr>\n",
       "    <tr>\n",
       "      <th>4</th>\n",
       "      <td>ANTIMONY</td>\n",
       "      <td>China</td>\n",
       "      <td>98000</td>\n",
       "      <td>100000</td>\n",
       "      <td>480000</td>\n",
       "    </tr>\n",
       "    <tr>\n",
       "      <th>...</th>\n",
       "      <td>...</td>\n",
       "      <td>...</td>\n",
       "      <td>...</td>\n",
       "      <td>...</td>\n",
       "      <td>...</td>\n",
       "    </tr>\n",
       "    <tr>\n",
       "      <th>776</th>\n",
       "      <td>ZINC</td>\n",
       "      <td>Mexico</td>\n",
       "      <td>674</td>\n",
       "      <td>650</td>\n",
       "      <td>20000</td>\n",
       "    </tr>\n",
       "    <tr>\n",
       "      <th>777</th>\n",
       "      <td>ZINC</td>\n",
       "      <td>Peru</td>\n",
       "      <td>1470</td>\n",
       "      <td>1600</td>\n",
       "      <td>21000</td>\n",
       "    </tr>\n",
       "    <tr>\n",
       "      <th>778</th>\n",
       "      <td>ZINC</td>\n",
       "      <td>Sweden</td>\n",
       "      <td>251</td>\n",
       "      <td>220</td>\n",
       "      <td>1400</td>\n",
       "    </tr>\n",
       "    <tr>\n",
       "      <th>779</th>\n",
       "      <td>ZINC</td>\n",
       "      <td>Other countries</td>\n",
       "      <td>2140</td>\n",
       "      <td>2300</td>\n",
       "      <td>33000</td>\n",
       "    </tr>\n",
       "    <tr>\n",
       "      <th>780</th>\n",
       "      <td>ZINC</td>\n",
       "      <td>World total (rounded)</td>\n",
       "      <td>12500</td>\n",
       "      <td>13000</td>\n",
       "      <td>230000</td>\n",
       "    </tr>\n",
       "  </tbody>\n",
       "</table>\n",
       "<p>781 rows × 5 columns</p>\n",
       "</div>"
      ],
      "text/plain": [
       "      Mineral                Country Production 2017 Production 2018 Reserves\n",
       "0    ANTIMONY          United States              —_              _—   660000\n",
       "1    ANTIMONY              Australia            3120            3100  7140000\n",
       "2    ANTIMONY                Bolivia            2700            2700   310000\n",
       "3    ANTIMONY                  Burma            1000            1000       NA\n",
       "4    ANTIMONY                  China           98000          100000   480000\n",
       "..        ...                    ...             ...             ...      ...\n",
       "776      ZINC                 Mexico             674             650    20000\n",
       "777      ZINC                   Peru            1470            1600    21000\n",
       "778      ZINC                 Sweden             251             220     1400\n",
       "779      ZINC        Other countries            2140            2300    33000\n",
       "780      ZINC  World total (rounded)           12500           13000   230000\n",
       "\n",
       "[781 rows x 5 columns]"
      ]
     },
     "execution_count": 388,
     "metadata": {},
     "output_type": "execute_result"
    }
   ],
   "source": [
    "df"
   ]
  },
  {
   "cell_type": "code",
   "execution_count": 389,
   "metadata": {},
   "outputs": [],
   "source": [
    "df.to_csv(\"mineral_data.csv\", index=False)"
   ]
  },
  {
   "cell_type": "code",
   "execution_count": 64,
   "metadata": {},
   "outputs": [],
   "source": [
    "a = pd.read_csv(\"mineral_data.csv\")\n",
    "#a.to_excel(\"data_xlsx\", index=None, header=True)"
   ]
  },
  {
   "cell_type": "code",
   "execution_count": 71,
   "metadata": {},
   "outputs": [],
   "source": [
    "a.to_excel(\"data.xlsx\", index=None, header=True)"
   ]
  },
  {
   "cell_type": "code",
   "execution_count": null,
   "metadata": {},
   "outputs": [],
   "source": []
  },
  {
   "cell_type": "code",
   "execution_count": null,
   "metadata": {},
   "outputs": [],
   "source": []
  },
  {
   "cell_type": "code",
   "execution_count": null,
   "metadata": {},
   "outputs": [],
   "source": []
  },
  {
   "cell_type": "code",
   "execution_count": null,
   "metadata": {},
   "outputs": [],
   "source": []
  },
  {
   "cell_type": "code",
   "execution_count": null,
   "metadata": {},
   "outputs": [],
   "source": []
  }
 ],
 "metadata": {
  "kernelspec": {
   "display_name": "Python 3 (ipykernel)",
   "language": "python",
   "name": "python3"
  },
  "language_info": {
   "codemirror_mode": {
    "name": "ipython",
    "version": 3
   },
   "file_extension": ".py",
   "mimetype": "text/x-python",
   "name": "python",
   "nbconvert_exporter": "python",
   "pygments_lexer": "ipython3",
   "version": "3.11.7"
  }
 },
 "nbformat": 4,
 "nbformat_minor": 4
}
